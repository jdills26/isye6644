{
 "cells": [
  {
   "cell_type": "code",
   "execution_count": 9,
   "metadata": {
    "collapsed": true
   },
   "outputs": [],
   "source": [
    "import numpy as np\n",
    "import random\n",
    "from numpy import zeros, linspace\n",
    "import matplotlib.pyplot as plt\n",
    "%matplotlib inline\n",
    "import seaborn as sns\n",
    "sns.set()\n",
    "\n",
    "from scipy.stats import binom"
   ]
  },
  {
   "cell_type": "markdown",
   "metadata": {},
   "source": [
    "## (a)  What is the distribution of the number of kids that Tommy infects on Day 1?\n",
    "\n",
    "### The distribution of iid bernoulli trials is the binomial distribution."
   ]
  },
  {
   "cell_type": "code",
   "execution_count": 4,
   "metadata": {
    "collapsed": true
   },
   "outputs": [],
   "source": [
    "p = 0.02 #given\n",
    "n = 20 #given\n",
    "\n",
    "def perform_bernoulli_trials(n, p):\n",
    "    \"\"\"\n",
    "    Perform n Bernoulli trials with success probability p\n",
    "    and return number of successes.\n",
    "    \"\"\"\n",
    "    # Initialize number of successes: n_success\n",
    "    n_success = 0\n",
    "\n",
    "    # Perform trials\n",
    "    for i in range(n):\n",
    "        # Choose random number between zero and one: random_number\n",
    "        random_number = np.random.random()\n",
    "\n",
    "        # If less than p, it's a success so add one to n_success\n",
    "        if random_number < p:\n",
    "            n_success += 1\n",
    "\n",
    "    return n_success"
   ]
  },
  {
   "cell_type": "code",
   "execution_count": 5,
   "metadata": {
    "collapsed": false,
    "scrolled": false
   },
   "outputs": [
    {
     "data": {
      "text/plain": [
       "0"
      ]
     },
     "execution_count": 5,
     "metadata": {},
     "output_type": "execute_result"
    }
   ],
   "source": [
    "perform_bernoulli_trials(20,0.02)"
   ]
  },
  {
   "cell_type": "markdown",
   "metadata": {},
   "source": [
    "### we can use scipy to plot the pmf - additional plot for fun"
   ]
  },
  {
   "cell_type": "markdown",
   "metadata": {},
   "source": [
    "probability mass function is a function that gives the probability that a discrete random variable is exactly equal to some value."
   ]
  },
  {
   "cell_type": "code",
   "execution_count": 6,
   "metadata": {
    "collapsed": false
   },
   "outputs": [
    {
     "data": {
      "image/png": "[encoded data removed]",
      "text/plain": [
       "<Figure size 600x400 with 1 Axes>"
      ]
     },
     "metadata": {},
     "output_type": "display_data"
    }
   ],
   "source": [
    "n, p = 20, 0.02\n",
    "x = [x for x in range(20)]\n",
    "\n",
    "fig, ax = plt.subplots(1, 1)\n",
    "ax.plot(x, binom.pmf(x, n, p), 'bo', ms=5, label='binom pmf') \n",
    "ax.vlines(x, 0, binom.pmf(x, n, p), colors='b', lw=3, alpha=0.5)\n",
    "plt.xticks(x)\n",
    "plt.ylabel('probability')\n",
    "plt.xlabel('number of successes')\n",
    "plt.show()"
   ]
  },
  {
   "cell_type": "markdown",
   "metadata": {},
   "source": [
    "## (b)  What is the expected number of kids that Tommy infects on Day 1?\n",
    "\n",
    "### The expected number of kids is zero"
   ]
  },
  {
   "cell_type": "code",
   "execution_count": 25,
   "metadata": {
    "collapsed": false
   },
   "outputs": [],
   "source": [
    "#run 1000 times\n",
    "res = []\n",
    "for i in range(0,1000):\n",
    "    infections = perform_bernoulli_trials(20,0.02)\n",
    "    res.append(infections)"
   ]
  },
  {
   "cell_type": "code",
   "execution_count": 26,
   "metadata": {
    "collapsed": false
   },
   "outputs": [
    {
     "data": {
      "text/plain": [
       "0.39000000000000001"
      ]
     },
     "execution_count": 26,
     "metadata": {},
     "output_type": "execute_result"
    }
   ],
   "source": [
    "np.mean(res) # just want to check the mean of the list against the mean of the list for day 2"
   ]
  },
  {
   "cell_type": "code",
   "execution_count": 27,
   "metadata": {
    "collapsed": false
   },
   "outputs": [
    {
     "data": {
      "image/png": "[encoded data removed]",
      "text/plain": [
       "<Figure size 600x400 with 1 Axes>"
      ]
     },
     "metadata": {},
     "output_type": "display_data"
    }
   ],
   "source": [
    "bins = np.arange(0, 10, 1) # fixed bin size\n",
    "\n",
    "plt.xlim([0, 5])\n",
    "plt.ylim([0,1000])\n",
    "\n",
    "plt.hist(res, bins=bins, alpha=0.5)\n",
    "plt.title('Histogram of Day 1 Infections in 1000 Trials')\n",
    "plt.xlabel('count of infections day 1')\n",
    "plt.ylabel('frequency')\n",
    "\n",
    "plt.show()"
   ]
  },
  {
   "cell_type": "markdown",
   "metadata": {},
   "source": [
    "## (c)  What  is  the  expected  number  of  kids  that  are  infected  by  Day  2  (you  can count Tommy if you want)?\n",
    "\n",
    "### STILL ZERO, did not count Tommy"
   ]
  },
  {
   "cell_type": "code",
   "execution_count": 28,
   "metadata": {
    "collapsed": false
   },
   "outputs": [],
   "source": [
    "#run 1000 times\n",
    "#Day 1 and Day 2\n",
    "#Tommy not counted\n",
    "res = []\n",
    "for i in range(0,1000):\n",
    "    infections = perform_bernoulli_trials(20,0.02)\n",
    "    healthy = 20 - infections\n",
    "    infections_day2 = perform_bernoulli_trials(healthy,0.02)\n",
    "    res.append(infections_day2)"
   ]
  },
  {
   "cell_type": "code",
   "execution_count": 29,
   "metadata": {
    "collapsed": false
   },
   "outputs": [
    {
     "data": {
      "text/plain": [
       "0.379"
      ]
     },
     "execution_count": 29,
     "metadata": {},
     "output_type": "execute_result"
    }
   ],
   "source": [
    "np.mean(res) # just want to check the mean of the list against the mean of the list for day 1"
   ]
  },
  {
   "cell_type": "code",
   "execution_count": 31,
   "metadata": {
    "collapsed": false,
    "scrolled": true
   },
   "outputs": [
    {
     "data": {
      "image/png": "[encoded data removed]",
      "text/plain": [
       "<Figure size 600x400 with 1 Axes>"
      ]
     },
     "metadata": {},
     "output_type": "display_data"
    }
   ],
   "source": [
    "bins = np.arange(0, 10, 1) # fixed bin size\n",
    "\n",
    "plt.xlim([0, 5])\n",
    "plt.ylim([0,1000])\n",
    "\n",
    "plt.hist(res, bins=bins, alpha=0.5)\n",
    "plt.title('Histogram of Day 2 Infections in 1000 Trials')\n",
    "plt.xlabel('count of infections day 2')\n",
    "plt.ylabel('frequency')\n",
    "\n",
    "plt.show()"
   ]
  },
  {
   "cell_type": "markdown",
   "metadata": {},
   "source": [
    "## (d)  Simulate the number of kids that are infected on Days 1,2,. . . .  Do this many times.  What are the (estimated) expected numbers of kids that are infected by Day i, i= 1,2,...?  Produce a histogram detailing how long the “epidemic” will last.\n",
    "\n",
    "### Please scroll down for histogram\n",
    "### Please scroll down for estimated numbers of infections by day"
   ]
  },
  {
   "cell_type": "code",
   "execution_count": 70,
   "metadata": {
    "collapsed": false,
    "scrolled": false
   },
   "outputs": [],
   "source": [
    "### TEST CODE WITH PRINT OUTS TO CHECK ###\n",
    "\n",
    "def simulate_flu():\n",
    "    N_t=10\n",
    "    p = 0.02\n",
    "    S = zeros(N_t+1)\n",
    "    I = zeros(N_t+1)\n",
    "    I_day = zeros(N_t+1)\n",
    "    R = zeros(N_t+1)\n",
    "\n",
    "    # Initial condition\n",
    "    S[0] = 20 #how many individuals at time t can get infected, initially 20\n",
    "    I[0] = 1 #how many individuals at time t are currently infected, initally 1 (aka Tommy)\n",
    "    R[0] = 0 #how many individuals at time t are removed (recovered and immune?)\n",
    "    I_day[0] = 1 #only who got infected ON THIS DAY\n",
    "\n",
    "    # Step equations forward in time\n",
    "    for n in range(1, N_t+1):\n",
    "        print('\\nDay ', n)\n",
    "        print('supceptible based on prev day ', S[n-1])\n",
    "        infected = perform_bernoulli_trials(int(S[n-1]),p)\n",
    "        print('infected from prev days ', I[n-1])  \n",
    "        print('infected at this time ', infected)\n",
    "        I_day[n] = infected\n",
    "        print('recovered ',R[n-1])\n",
    "        \n",
    "        R[n] = R[n-1] + I_day[n-3]  #recovered yesterday + infected 3 days prior                                \n",
    "        S[n] = S[n-1] - infected #available at start minus infected today\n",
    "        I[n] = I_day[n] + I_day[n-1] +I_day[n-2]  #total infected = infected today and prev 2 days\n",
    "\n",
    "        \n",
    "    return S, I, R"
   ]
  },
  {
   "cell_type": "code",
   "execution_count": 71,
   "metadata": {
    "collapsed": false,
    "scrolled": false
   },
   "outputs": [
    {
     "name": "stdout",
     "output_type": "stream",
     "text": [
      "\n",
      "Day  1\n",
      "supceptible based on prev day  20.0\n",
      "infected from prev days  1.0\n",
      "infected at this time  0\n",
      "recovered  0.0\n",
      "\n",
      "Day  2\n",
      "supceptible based on prev day  20.0\n",
      "infected from prev days  1.0\n",
      "infected at this time  1\n",
      "recovered  0.0\n",
      "\n",
      "Day  3\n",
      "supceptible based on prev day  19.0\n",
      "infected from prev days  2.0\n",
      "infected at this time  0\n",
      "recovered  0.0\n",
      "\n",
      "Day  4\n",
      "supceptible based on prev day  19.0\n",
      "infected from prev days  1.0\n",
      "infected at this time  1\n",
      "recovered  1.0\n",
      "\n",
      "Day  5\n",
      "supceptible based on prev day  18.0\n",
      "infected from prev days  2.0\n",
      "infected at this time  0\n",
      "recovered  1.0\n",
      "\n",
      "Day  6\n",
      "supceptible based on prev day  18.0\n",
      "infected from prev days  1.0\n",
      "infected at this time  0\n",
      "recovered  2.0\n",
      "\n",
      "Day  7\n",
      "supceptible based on prev day  18.0\n",
      "infected from prev days  1.0\n",
      "infected at this time  1\n",
      "recovered  2.0\n",
      "\n",
      "Day  8\n",
      "supceptible based on prev day  17.0\n",
      "infected from prev days  1.0\n",
      "infected at this time  0\n",
      "recovered  3.0\n",
      "\n",
      "Day  9\n",
      "supceptible based on prev day  17.0\n",
      "infected from prev days  1.0\n",
      "infected at this time  1\n",
      "recovered  3.0\n",
      "\n",
      "Day  10\n",
      "supceptible based on prev day  16.0\n",
      "infected from prev days  2.0\n",
      "infected at this time  0\n",
      "recovered  3.0\n"
     ]
    }
   ],
   "source": [
    "random.seed(42)\n",
    "S,I,R = simulate_flu()"
   ]
  },
  {
   "cell_type": "code",
   "execution_count": 121,
   "metadata": {
    "collapsed": true
   },
   "outputs": [],
   "source": [
    "### CODE WITH PRINT OUTS REMOVED ###\n",
    "\n",
    "def simulate_flu():\n",
    "    N_t=200 #200 days was a good value here\n",
    "    p = 0.02\n",
    "    S = zeros(N_t+1)\n",
    "    I = zeros(N_t+1)\n",
    "    I_day = zeros(N_t+1)\n",
    "    R = zeros(N_t+1)\n",
    "\n",
    "    # Initial condition\n",
    "    S[0] = 20 #how many individuals at time t can get infected, initially 20\n",
    "    I[0] = 1 #how many individuals at time t are currently infected, initally 1 (aka Tommy)\n",
    "    R[0] = 0 #how many individuals at time t are removed (recovered and immune?)\n",
    "    I_day[0] = 1 #only who got infected ON THIS DAY\n",
    "\n",
    "    # Step equations forward in time\n",
    "    for n in range(1, N_t+1):\n",
    "        infected = perform_bernoulli_trials(int(S[n-1]),p)\n",
    "        I_day[n] = infected\n",
    "        \n",
    "        R[n] = R[n-1] + I_day[n-3]  #recovered yesterday + infected 3 days prior                                \n",
    "        S[n] = S[n-1] - infected #available at start minus infected today\n",
    "        I[n] = I_day[n] + I_day[n-1] +I_day[n-2]  #total infected = infected today and prev 2 days\n",
    "\n",
    "        \n",
    "    return S, I, R"
   ]
  },
  {
   "cell_type": "code",
   "execution_count": 130,
   "metadata": {
    "collapsed": true
   },
   "outputs": [],
   "source": [
    "#RUN 1000 times\n",
    "\n",
    "S = []\n",
    "I = []\n",
    "R = []\n",
    "for i in range(0,1000):\n",
    "    si, ii, ri = simulate_flu()\n",
    "    S.append(si)\n",
    "    I.append(ii)\n",
    "    R.append(ri)"
   ]
  },
  {
   "cell_type": "code",
   "execution_count": 123,
   "metadata": {
    "collapsed": true
   },
   "outputs": [],
   "source": [
    "days = np.arange(0, 201, 1) # just for plotting purposes"
   ]
  },
  {
   "cell_type": "code",
   "execution_count": 124,
   "metadata": {
    "collapsed": false
   },
   "outputs": [
    {
     "data": {
      "text/plain": [
       "Text(0.5, 1.0, 'One simulation of the flu spread')"
      ]
     },
     "execution_count": 124,
     "metadata": {},
     "output_type": "execute_result"
    },
    {
     "data": {
      "image/png": "[encoded data removed]",
      "text/plain": [
       "<Figure size 600x400 with 1 Axes>"
      ]
     },
     "metadata": {},
     "output_type": "display_data"
    }
   ],
   "source": [
    "plt.plot(days, S[0], label = 'S')\n",
    "plt.plot(days, R[0], label = 'I')\n",
    "plt.plot(days, I[0], label = 'R')\n",
    "plt.xlabel('days')\n",
    "plt.ylabel('Flu Spread')\n",
    "plt.legend()\n",
    "plt.title('One simulation of the flu spread')"
   ]
  },
  {
   "cell_type": "code",
   "execution_count": 125,
   "metadata": {
    "collapsed": false
   },
   "outputs": [],
   "source": [
    "avgS = np.mean(S, axis=0)\n",
    "avgI = np.mean(I, axis=0)\n",
    "avgR = np.mean(R, axis=0)"
   ]
  },
  {
   "cell_type": "code",
   "execution_count": 126,
   "metadata": {
    "collapsed": false
   },
   "outputs": [
    {
     "data": {
      "text/plain": [
       "Text(0.5, 1.0, 'Simulation of the flu spread (1000 Trials)')"
      ]
     },
     "execution_count": 126,
     "metadata": {},
     "output_type": "execute_result"
    },
    {
     "data": {
      "image/png": "[encoded data removed]",
      "text/plain": [
       "<Figure size 600x400 with 1 Axes>"
      ]
     },
     "metadata": {},
     "output_type": "display_data"
    }
   ],
   "source": [
    "plt.plot(days, avgS, label = 'S')\n",
    "plt.plot(days, avgI, label = 'I')\n",
    "plt.plot(days, avgR, label = 'R')\n",
    "plt.xlabel('days')\n",
    "plt.ylabel('Flu Spread')\n",
    "plt.legend()\n",
    "plt.title('Simulation of the flu spread (1000 Trials)')"
   ]
  },
  {
   "cell_type": "code",
   "execution_count": 138,
   "metadata": {
    "collapsed": false
   },
   "outputs": [],
   "source": [
    "#grab the end day of each trial and put it into a list\n",
    "end = []\n",
    "for li in R:\n",
    "    end.append(li.argmax())"
   ]
  },
  {
   "cell_type": "markdown",
   "metadata": {},
   "source": [
    "### Histogram of when the flu ends"
   ]
  },
  {
   "cell_type": "code",
   "execution_count": 146,
   "metadata": {
    "collapsed": false
   },
   "outputs": [
    {
     "data": {
      "image/png": "[encoded data removed]",
      "text/plain": [
       "<Figure size 600x400 with 1 Axes>"
      ]
     },
     "metadata": {},
     "output_type": "display_data"
    }
   ],
   "source": [
    "#produce a histogram!\n",
    "#WHEN DOES IT END?\n",
    "bins = np.arange(0, 200, 5) # fixed bin size\n",
    "\n",
    "plt.xlim([0, 200])\n",
    "plt.ylim([0,100])\n",
    "\n",
    "plt.hist(end, bins=bins, alpha=0.5)\n",
    "plt.title('Histogram of End Day of Flu (1000 Trials)')\n",
    "plt.xlabel('count of trials that end on this day')\n",
    "plt.ylabel('frequency')\n",
    "\n",
    "plt.show()"
   ]
  },
  {
   "cell_type": "markdown",
   "metadata": {},
   "source": [
    "### Table of Infections"
   ]
  },
  {
   "cell_type": "code",
   "execution_count": 154,
   "metadata": {
    "collapsed": false
   },
   "outputs": [],
   "source": [
    "import pandas as pd\n",
    "df = pd.DataFrame([days, avgS, avgI, avgR]).T"
   ]
  },
  {
   "cell_type": "code",
   "execution_count": 156,
   "metadata": {
    "collapsed": false
   },
   "outputs": [],
   "source": [
    "df.columns = ['Day', 'Susceptible', 'Infected', 'Recovered']"
   ]
  },
  {
   "cell_type": "code",
   "execution_count": 160,
   "metadata": {
    "collapsed": false,
    "scrolled": false
   },
   "outputs": [
    {
     "name": "stdout",
     "output_type": "stream",
     "text": [
      "       Day  Susceptible  Infected  Recovered\n",
      "0      0.0       20.000     1.000      0.000\n",
      "1      1.0       19.624     1.376      0.000\n",
      "2      2.0       19.253     1.747      0.000\n",
      "3      3.0       18.851     1.149      1.000\n",
      "4      4.0       18.479     1.145      1.376\n",
      "5      5.0       18.087     1.166      1.747\n",
      "6      6.0       17.727     1.124      2.149\n",
      "7      7.0       17.348     1.131      2.521\n",
      "8      8.0       17.011     1.076      2.913\n",
      "9      9.0       16.669     1.058      3.273\n",
      "10    10.0       16.356     0.992      3.652\n",
      "11    11.0       16.025     0.986      3.989\n",
      "12    12.0       15.711     0.958      4.331\n",
      "13    13.0       15.414     0.942      4.644\n",
      "14    14.0       15.097     0.928      4.975\n",
      "15    15.0       14.789     0.922      5.289\n",
      "16    16.0       14.485     0.929      5.586\n",
      "17    17.0       14.203     0.894      5.903\n",
      "18    18.0       13.909     0.880      6.211\n",
      "19    19.0       13.633     0.852      6.515\n",
      "20    20.0       13.350     0.853      6.797\n",
      "21    21.0       13.071     0.838      7.091\n",
      "22    22.0       12.828     0.805      7.367\n",
      "23    23.0       12.594     0.756      7.650\n",
      "24    24.0       12.342     0.729      7.929\n",
      "25    25.0       12.113     0.715      8.172\n",
      "26    26.0       11.873     0.721      8.406\n",
      "27    27.0       11.638     0.704      8.658\n",
      "28    28.0       11.404     0.709      8.887\n",
      "29    29.0       11.157     0.716      9.127\n",
      "30    30.0       10.923     0.715      9.362\n",
      "31    31.0       10.704     0.700      9.596\n",
      "32    32.0       10.493     0.664      9.843\n",
      "33    33.0       10.277     0.646     10.077\n",
      "34    34.0       10.091     0.613     10.296\n",
      "35    35.0        9.881     0.612     10.507\n",
      "36    36.0        9.669     0.608     10.723\n",
      "37    37.0        9.471     0.620     10.909\n",
      "38    38.0        9.295     0.586     11.119\n",
      "39    39.0        9.079     0.590     11.331\n",
      "40    40.0        8.908     0.563     11.529\n",
      "41    41.0        8.729     0.566     11.705\n",
      "42    42.0        8.562     0.517     11.921\n",
      "43    43.0        8.397     0.511     12.092\n",
      "44    44.0        8.228     0.501     12.271\n",
      "45    45.0        8.085     0.477     12.438\n",
      "46    46.0        7.928     0.469     12.603\n",
      "47    47.0        7.780     0.448     12.772\n",
      "48    48.0        7.606     0.479     12.915\n",
      "49    49.0        7.468     0.460     13.072\n",
      "50    50.0        7.320     0.460     13.220\n",
      "51    51.0        7.176     0.430     13.394\n",
      "52    52.0        7.036     0.432     13.532\n",
      "53    53.0        6.907     0.413     13.680\n",
      "54    54.0        6.762     0.414     13.824\n",
      "55    55.0        6.621     0.415     13.964\n",
      "56    56.0        6.499     0.408     14.093\n",
      "57    57.0        6.373     0.389     14.238\n",
      "58    58.0        6.241     0.380     14.379\n",
      "59    59.0        6.136     0.363     14.501\n",
      "60    60.0        6.017     0.356     14.627\n",
      "61    61.0        5.903     0.338     14.759\n",
      "62    62.0        5.770     0.366     14.864\n",
      "63    63.0        5.654     0.363     14.983\n",
      "64    64.0        5.548     0.355     15.097\n",
      "65    65.0        5.435     0.335     15.230\n",
      "66    66.0        5.309     0.345     15.346\n",
      "67    67.0        5.202     0.346     15.452\n",
      "68    68.0        5.091     0.344     15.565\n",
      "69    69.0        4.983     0.326     15.691\n",
      "70    70.0        4.891     0.311     15.798\n",
      "71    71.0        4.794     0.297     15.909\n",
      "72    72.0        4.695     0.288     16.017\n",
      "73    73.0        4.598     0.293     16.109\n",
      "74    74.0        4.505     0.289     16.206\n",
      "75    75.0        4.413     0.282     16.305\n",
      "76    76.0        4.321     0.277     16.402\n",
      "77    77.0        4.237     0.268     16.495\n",
      "78    78.0        4.155     0.258     16.587\n",
      "79    79.0        4.073     0.248     16.679\n",
      "80    80.0        3.984     0.253     16.763\n",
      "81    81.0        3.908     0.247     16.845\n",
      "82    82.0        3.823     0.250     16.927\n",
      "83    83.0        3.744     0.240     17.016\n",
      "84    84.0        3.671     0.237     17.092\n",
      "85    85.0        3.595     0.228     17.177\n",
      "86    86.0        3.521     0.223     17.256\n",
      "87    87.0        3.461     0.210     17.329\n",
      "88    88.0        3.397     0.198     17.405\n",
      "89    89.0        3.309     0.212     17.479\n",
      "90    90.0        3.246     0.215     17.539\n",
      "91    91.0        3.166     0.231     17.603\n",
      "92    92.0        3.107     0.202     17.691\n",
      "93    93.0        3.052     0.194     17.754\n",
      "94    94.0        2.998     0.168     17.834\n",
      "95    95.0        2.938     0.169     17.893\n",
      "96    96.0        2.876     0.176     17.948\n",
      "97    97.0        2.825     0.173     18.002\n",
      "98    98.0        2.773     0.165     18.062\n",
      "99    99.0        2.708     0.168     18.124\n",
      "100  100.0        2.661     0.164     18.175\n",
      "101  101.0        2.615     0.158     18.227\n",
      "102  102.0        2.555     0.153     18.292\n",
      "103  103.0        2.512     0.149     18.339\n",
      "104  104.0        2.465     0.150     18.385\n",
      "105  105.0        2.412     0.143     18.445\n",
      "106  106.0        2.366     0.146     18.488\n",
      "107  107.0        2.331     0.134     18.535\n",
      "108  108.0        2.291     0.121     18.588\n",
      "109  109.0        2.250     0.116     18.634\n",
      "110  110.0        2.199     0.132     18.669\n",
      "111  111.0        2.158     0.133     18.709\n",
      "112  112.0        2.106     0.144     18.750\n",
      "113  113.0        2.064     0.135     18.801\n",
      "114  114.0        2.019     0.139     18.842\n",
      "115  115.0        1.973     0.133     18.894\n",
      "116  116.0        1.947     0.117     18.936\n",
      "117  117.0        1.910     0.109     18.981\n",
      "118  118.0        1.862     0.111     19.027\n",
      "119  119.0        1.821     0.126     19.053\n",
      "120  120.0        1.795     0.115     19.090\n",
      "121  121.0        1.758     0.104     19.138\n",
      "122  122.0        1.719     0.102     19.179\n",
      "123  123.0        1.679     0.116     19.205\n",
      "124  124.0        1.646     0.112     19.242\n",
      "125  125.0        1.610     0.109     19.281\n",
      "126  126.0        1.586     0.093     19.321\n",
      "127  127.0        1.555     0.091     19.354\n",
      "128  128.0        1.525     0.085     19.390\n",
      "129  129.0        1.495     0.091     19.414\n",
      "130  130.0        1.465     0.090     19.445\n",
      "131  131.0        1.438     0.087     19.475\n",
      "132  132.0        1.410     0.085     19.505\n",
      "133  133.0        1.385     0.080     19.535\n",
      "134  134.0        1.352     0.086     19.562\n",
      "135  135.0        1.330     0.080     19.590\n",
      "136  136.0        1.303     0.082     19.615\n",
      "137  137.0        1.281     0.071     19.648\n",
      "138  138.0        1.247     0.083     19.670\n",
      "139  139.0        1.219     0.084     19.697\n",
      "140  140.0        1.190     0.091     19.719\n",
      "141  141.0        1.162     0.085     19.753\n",
      "142  142.0        1.143     0.076     19.781\n",
      "143  143.0        1.119     0.071     19.810\n",
      "144  144.0        1.095     0.067     19.838\n",
      "145  145.0        1.079     0.064     19.857\n",
      "146  146.0        1.056     0.063     19.881\n",
      "147  147.0        1.038     0.057     19.905\n",
      "148  148.0        1.011     0.068     19.921\n",
      "149  149.0        0.993     0.063     19.944\n",
      "150  150.0        0.967     0.071     19.962\n",
      "151  151.0        0.955     0.056     19.989\n",
      "152  152.0        0.933     0.060     20.007\n",
      "153  153.0        0.913     0.054     20.033\n",
      "154  154.0        0.899     0.056     20.045\n",
      "155  155.0        0.887     0.046     20.067\n",
      "156  156.0        0.869     0.044     20.087\n",
      "157  157.0        0.851     0.048     20.101\n",
      "158  158.0        0.835     0.052     20.113\n",
      "159  159.0        0.819     0.050     20.131\n",
      "160  160.0        0.804     0.047     20.149\n",
      "161  161.0        0.790     0.045     20.165\n",
      "162  162.0        0.770     0.049     20.181\n",
      "163  163.0        0.760     0.044     20.196\n",
      "164  164.0        0.749     0.041     20.210\n",
      "165  165.0        0.736     0.034     20.230\n",
      "166  166.0        0.722     0.038     20.240\n",
      "167  167.0        0.707     0.042     20.251\n",
      "168  168.0        0.684     0.052     20.264\n",
      "169  169.0        0.677     0.045     20.278\n",
      "170  170.0        0.667     0.040     20.293\n",
      "171  171.0        0.660     0.024     20.316\n",
      "172  172.0        0.649     0.028     20.323\n",
      "173  173.0        0.634     0.033     20.333\n",
      "174  174.0        0.621     0.039     20.340\n",
      "175  175.0        0.605     0.044     20.351\n",
      "176  176.0        0.589     0.045     20.366\n",
      "177  177.0        0.581     0.040     20.379\n",
      "178  178.0        0.558     0.047     20.395\n",
      "179  179.0        0.548     0.041     20.411\n",
      "180  180.0        0.532     0.049     20.419\n",
      "181  181.0        0.517     0.041     20.442\n",
      "182  182.0        0.514     0.034     20.452\n",
      "183  183.0        0.499     0.033     20.468\n",
      "184  184.0        0.488     0.029     20.483\n",
      "185  185.0        0.480     0.034     20.486\n",
      "186  186.0        0.470     0.029     20.501\n",
      "187  187.0        0.464     0.024     20.512\n",
      "188  188.0        0.458     0.022     20.520\n",
      "189  189.0        0.451     0.019     20.530\n",
      "190  190.0        0.443     0.021     20.536\n",
      "191  191.0        0.430     0.028     20.542\n",
      "192  192.0        0.424     0.027     20.549\n",
      "193  193.0        0.415     0.028     20.557\n",
      "194  194.0        0.408     0.022     20.570\n",
      "195  195.0        0.398     0.026     20.576\n",
      "196  196.0        0.389     0.026     20.585\n",
      "197  197.0        0.377     0.031     20.592\n",
      "198  198.0        0.367     0.031     20.602\n",
      "199  199.0        0.358     0.031     20.611\n",
      "200  200.0        0.348     0.029     20.623\n"
     ]
    }
   ],
   "source": [
    "pd.set_option(\"display.max_rows\", None, \"display.max_columns\", None)\n",
    "\n",
    "print(df)"
   ]
  }
 ],
 "metadata": {
  "kernelspec": {
   "display_name": "Python 3",
   "language": "python",
   "name": "python3"
  },
  "language_info": {
   "codemirror_mode": {
    "name": "ipython",
    "version": 3
   },
   "file_extension": ".py",
   "mimetype": "text/x-python",
   "name": "python",
   "nbconvert_exporter": "python",
   "pygments_lexer": "ipython3",
   "version": "3.5.6"
  }
 },
 "nbformat": 4,
 "nbformat_minor": 0
}
