{
 "cells": [
  {
   "cell_type": "code",
   "execution_count": 1,
   "metadata": {
    "collapsed": true
   },
   "outputs": [],
   "source": [
    "import numpy as np\n",
    "from numpy import zeros, linspace\n",
    "import matplotlib.pyplot as plt\n",
    "%matplotlib inline\n",
    "import seaborn as sns\n",
    "sns.set()\n",
    "\n",
    "from scipy.stats import binom"
   ]
  },
  {
   "cell_type": "raw",
   "metadata": {},
   "source": [
    "(a)  What is the distribution of the number of kids that Tommy infects on Day 1?\n",
    "\n",
    "This distribution of iid bernoulli trials is the binomial distribution."
   ]
  },
  {
   "cell_type": "code",
   "execution_count": 2,
   "metadata": {
    "collapsed": true
   },
   "outputs": [],
   "source": [
    "p = 0.02 #given\n",
    "n = 20 #given\n",
    "\n",
    "def perform_bernoulli_trials(n, p):\n",
    "    \"\"\"\n",
    "    Perform n Bernoulli trials with success probability p\n",
    "    and return number of successes.\n",
    "    \"\"\"\n",
    "    # Initialize number of successes: n_success\n",
    "    n_success = 0\n",
    "\n",
    "    # Perform trials\n",
    "    for i in range(n):\n",
    "        # Choose random number between zero and one: random_number\n",
    "        random_number = np.random.random()\n",
    "\n",
    "        # If less than p, it's a success so add one to n_success\n",
    "        if random_number < p:\n",
    "            n_success += 1\n",
    "\n",
    "    return n_success"
   ]
  },
  {
   "cell_type": "code",
   "execution_count": 3,
   "metadata": {
    "collapsed": false
   },
   "outputs": [
    {
     "data": {
      "text/plain": [
       "0"
      ]
     },
     "execution_count": 3,
     "metadata": {},
     "output_type": "execute_result"
    }
   ],
   "source": [
    "perform_bernoulli_trials(20,0.02)"
   ]
  },
  {
   "cell_type": "code",
   "execution_count": 4,
   "metadata": {
    "collapsed": false
   },
   "outputs": [
    {
     "data": {
      "image/png": "[encoded data removed]",
      "text/plain": [
       "<Figure size 600x400 with 1 Axes>"
      ]
     },
     "metadata": {},
     "output_type": "display_data"
    }
   ],
   "source": [
    "n, p = 20, 0.02\n",
    "x = [x for x in range(20)]\n",
    "\n",
    "fig, ax = plt.subplots(1, 1)\n",
    "ax.plot(x, binom.pmf(x, n, p), 'bo', ms=5, label='binom pmf')\n",
    "ax.vlines(x, 0, binom.pmf(x, n, p), colors='b', lw=3, alpha=0.5)\n",
    "plt.xticks(x)\n",
    "plt.ylabel('probability')\n",
    "plt.xlabel('number of successes')\n",
    "plt.show()"
   ]
  },
  {
   "cell_type": "raw",
   "metadata": {},
   "source": [
    "(b)  What is the expected number of kids that Tommy infects on Day 1?\n",
    "\n",
    "The expected number of kids is zero"
   ]
  },
  {
   "cell_type": "raw",
   "metadata": {},
   "source": [
    "(c)  What  is  the  expected  number  of  kids  that  are  infected  by  Day  2  (you  can count Tommy if you want)?\n",
    "\n",
    "we need to run this alot of times and get a distribution i think....but just running it a couple of times, probably zero."
   ]
  },
  {
   "cell_type": "code",
   "execution_count": 13,
   "metadata": {
    "collapsed": false
   },
   "outputs": [
    {
     "data": {
      "text/plain": [
       "0"
      ]
     },
     "execution_count": 13,
     "metadata": {},
     "output_type": "execute_result"
    }
   ],
   "source": [
    "n = 0\n",
    "for i in range(0,2):\n",
    "    n_success1 = perform_bernoulli_trials(n, p)\n",
    "    n += n_success1\n",
    "\n",
    "n"
   ]
  },
  {
   "cell_type": "code",
   "execution_count": 14,
   "metadata": {
    "collapsed": false
   },
   "outputs": [
    {
     "data": {
      "text/plain": [
       "1"
      ]
     },
     "execution_count": 14,
     "metadata": {},
     "output_type": "execute_result"
    }
   ],
   "source": [
    "perform_bernoulli_trials(20, 0.02)"
   ]
  },
  {
   "cell_type": "code",
   "execution_count": 15,
   "metadata": {
    "collapsed": false
   },
   "outputs": [
    {
     "data": {
      "image/png": "[encoded data removed]",
      "text/plain": [
       "<Figure size 600x400 with 1 Axes>"
      ]
     },
     "metadata": {},
     "output_type": "display_data"
    }
   ],
   "source": [
    "# Seed random number generator\n",
    "np.random.seed(42)\n",
    "\n",
    "# Initialize the number of defaults: n_defaults\n",
    "n_defaults = np.empty(1000)\n",
    "\n",
    "# Compute the number of defaults\n",
    "for i in range(1000):\n",
    "    n_defaults[i] = perform_bernoulli_trials(100, 0.05)\n",
    "\n",
    "\n",
    "# Plot the histogram with default number of bins; label your axes\n",
    "_ = plt.hist(n_defaults, density=True)\n",
    "_ = plt.xlabel('number of infections out of 20 students')\n",
    "_ = plt.ylabel('probability')\n",
    "\n",
    "# Show the plot\n",
    "plt.show()"
   ]
  },
  {
   "cell_type": "code",
   "execution_count": 17,
   "metadata": {
    "collapsed": false,
    "scrolled": true
   },
   "outputs": [
    {
     "data": {
      "image/png": "[encoded data removed]",
      "text/plain": [
       "<Figure size 600x400 with 1 Axes>"
      ]
     },
     "metadata": {},
     "output_type": "display_data"
    }
   ],
   "source": [
    "##DRAFT one that I found online?\n",
    "## not exactly what we want\n",
    "# Time unit: 1 day\n",
    "beta = .02 #infection\n",
    "gamma = 1/3 #recovery\n",
    "\n",
    "N_t = 40              # Simulate for D days\n",
    "dt=1\n",
    "\n",
    "t = linspace(0, N_t, N_t+1)\n",
    "S = zeros(N_t+1)\n",
    "I = zeros(N_t+1)\n",
    "R = zeros(N_t+1)\n",
    "\n",
    "# Initial condition\n",
    "S[0] = 20\n",
    "I[0] = 1\n",
    "R[0] = 0\n",
    "\n",
    "# Step equations forward in time\n",
    "for n in range(N_t):\n",
    "    S[n+1] = S[n] - dt*beta*S[n]*I[n]\n",
    "    I[n+1] = I[n] + dt*beta*S[n]*I[n] - dt*gamma*I[n]\n",
    "    R[n+1] = R[n] + dt*gamma*I[n]\n",
    "\n",
    "fig = plt.figure()\n",
    "l1, l2, l3 = plt.plot(t, S, t, I, t, R)\n",
    "fig.legend((l1, l2, l3), ('S', 'I', 'R'), 'upper left')\n",
    "plt.xlabel('days')\n",
    "plt.show()"
   ]
  },
  {
   "cell_type": "code",
   "execution_count": 9,
   "metadata": {
    "collapsed": false
   },
   "outputs": [],
   "source": []
  },
  {
   "cell_type": "code",
   "execution_count": 22,
   "metadata": {
    "collapsed": false,
    "scrolled": false
   },
   "outputs": [],
   "source": [
    "def simulate_flu():\n",
    "    N_t=10\n",
    "    p = 0.02\n",
    "    S = zeros(N_t+1)\n",
    "    I = zeros(N_t+1)\n",
    "    R = zeros(N_t+1)\n",
    "\n",
    "    # Initial condition\n",
    "    S[0] = 20 #how many individuals at time t can get infected, initially 20\n",
    "    I[0] = 1 #how many individuals at time t are currently infected, initally 1 (aka Tommy)\n",
    "    R[0] = 0 #how many individuals at time t are removed (recovered and immune?)\n",
    "\n",
    "\n",
    "    # Step equations forward in time\n",
    "    for n in range(N_t):\n",
    "        print('\\nstep ', n)\n",
    "        print('supceptible ', S[n])\n",
    "        print('currently infectious ',I[n])\n",
    "        print('recovered ',R[n])\n",
    "        infected = 0\n",
    "        for i in range(int(I[n])):\n",
    "            infected+=perform_bernoulli_trials(int(S[n]-i),p)\n",
    "        print('infected this round ', infected)\n",
    "\n",
    "        R[n+1] = R[n] + I[n-2]                                    \n",
    "        S[n+1] = S[n] - infected - R[n]\n",
    "        I[n+1] = I[n] + infected \n",
    "        \n",
    "    return S, I, R"
   ]
  },
  {
   "cell_type": "code",
   "execution_count": 23,
   "metadata": {
    "collapsed": false,
    "scrolled": false
   },
   "outputs": [
    {
     "name": "stdout",
     "output_type": "stream",
     "text": [
      "\n",
      "step  0\n",
      "supceptible  20.0\n",
      "currently infectious  1.0\n",
      "recovered  0.0\n",
      "infected this round  0\n",
      "\n",
      "step  1\n",
      "supceptible  20.0\n",
      "currently infectious  1.0\n",
      "recovered  0.0\n",
      "infected this round  0\n",
      "\n",
      "step  2\n",
      "supceptible  20.0\n",
      "currently infectious  1.0\n",
      "recovered  0.0\n",
      "infected this round  1\n",
      "\n",
      "step  3\n",
      "supceptible  19.0\n",
      "currently infectious  2.0\n",
      "recovered  1.0\n",
      "infected this round  0\n",
      "\n",
      "step  4\n",
      "supceptible  18.0\n",
      "currently infectious  2.0\n",
      "recovered  2.0\n",
      "infected this round  0\n",
      "\n",
      "step  5\n",
      "supceptible  16.0\n",
      "currently infectious  2.0\n",
      "recovered  3.0\n",
      "infected this round  0\n",
      "\n",
      "step  6\n",
      "supceptible  13.0\n",
      "currently infectious  2.0\n",
      "recovered  5.0\n",
      "infected this round  2\n",
      "\n",
      "step  7\n",
      "supceptible  6.0\n",
      "currently infectious  4.0\n",
      "recovered  7.0\n",
      "infected this round  0\n",
      "\n",
      "step  8\n",
      "supceptible  -1.0\n",
      "currently infectious  4.0\n",
      "recovered  9.0\n",
      "infected this round  0\n",
      "\n",
      "step  9\n",
      "supceptible  -10.0\n",
      "currently infectious  4.0\n",
      "recovered  11.0\n",
      "infected this round  0\n"
     ]
    }
   ],
   "source": [
    "S,I,R = simulate_flu()"
   ]
  },
  {
   "cell_type": "code",
   "execution_count": 25,
   "metadata": {
    "collapsed": false,
    "scrolled": true
   },
   "outputs": [
    {
     "data": {
      "text/plain": [
       "array([ True,  True,  True,  True,  True,  True,  True,  True, False,\n",
       "       False, False], dtype=bool)"
      ]
     },
     "execution_count": 25,
     "metadata": {},
     "output_type": "execute_result"
    }
   ],
   "source": [
    "S>1"
   ]
  },
  {
   "cell_type": "code",
   "execution_count": 30,
   "metadata": {
    "collapsed": true
   },
   "outputs": [],
   "source": [
    "days = [0,1,2,3,4,5,6,7,8,9,10]"
   ]
  },
  {
   "cell_type": "code",
   "execution_count": 31,
   "metadata": {
    "collapsed": false
   },
   "outputs": [
    {
     "data": {
      "text/plain": [
       "Text(0, 0.5, 'Susceptibles')"
      ]
     },
     "execution_count": 31,
     "metadata": {},
     "output_type": "execute_result"
    },
    {
     "data": {
      "image/png": "[encoded data removed]",
      "text/plain": [
       "<Figure size 600x400 with 1 Axes>"
      ]
     },
     "metadata": {},
     "output_type": "display_data"
    }
   ],
   "source": [
    "plt.plot(days, S)\n",
    "plt.xlabel('days')\n",
    "plt.ylabel('Susceptibles')"
   ]
  },
  {
   "cell_type": "code",
   "execution_count": 32,
   "metadata": {
    "collapsed": false,
    "scrolled": true
   },
   "outputs": [
    {
     "data": {
      "text/plain": [
       "Text(0, 0.5, 'Infectives')"
      ]
     },
     "execution_count": 32,
     "metadata": {},
     "output_type": "execute_result"
    },
    {
     "data": {
      "image/png": "[encoded data removed]",
      "text/plain": [
       "<Figure size 600x400 with 1 Axes>"
      ]
     },
     "metadata": {},
     "output_type": "display_data"
    }
   ],
   "source": [
    "plt.plot(days, I)\n",
    "plt.xlabel('t')\n",
    "plt.ylabel('Infectives')"
   ]
  },
  {
   "cell_type": "raw",
   "metadata": {},
   "source": [
    "(d)  Simulate the number of kids that are infected on Days 1,2,. . . .  Do this many times.  What are the (estimated) expected numbers of kids that are infected by Day i, i= 1,2,...?  Produce a histogram detailing how long the “epidemic” will last.\n",
    "\n",
    "#need to do this. not sure if the algorithm is correct...."
   ]
  },
  {
   "cell_type": "code",
   "execution_count": null,
   "metadata": {
    "collapsed": true
   },
   "outputs": [],
   "source": []
  }
 ],
 "metadata": {
  "kernelspec": {
   "display_name": "Python 3",
   "language": "python",
   "name": "python3"
  },
  "language_info": {
   "codemirror_mode": {
    "name": "ipython",
    "version": 3
   },
   "file_extension": ".py",
   "mimetype": "text/x-python",
   "name": "python",
   "nbconvert_exporter": "python",
   "pygments_lexer": "ipython3",
   "version": "3.5.6"
  }
 },
 "nbformat": 4,
 "nbformat_minor": 0
}
